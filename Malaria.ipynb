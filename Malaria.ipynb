{
 "cells": [
  {
   "cell_type": "code",
   "execution_count": 1,
   "metadata": {},
   "outputs": [
    {
     "name": "stderr",
     "output_type": "stream",
     "text": [
      "Using TensorFlow backend.\n",
      "/home/arya/anaconda3/lib/python3.7/site-packages/tensorflow/python/framework/dtypes.py:516: FutureWarning: Passing (type, 1) or '1type' as a synonym of type is deprecated; in a future version of numpy, it will be understood as (type, (1,)) / '(1,)type'.\n",
      "  _np_qint8 = np.dtype([(\"qint8\", np.int8, 1)])\n",
      "/home/arya/anaconda3/lib/python3.7/site-packages/tensorflow/python/framework/dtypes.py:517: FutureWarning: Passing (type, 1) or '1type' as a synonym of type is deprecated; in a future version of numpy, it will be understood as (type, (1,)) / '(1,)type'.\n",
      "  _np_quint8 = np.dtype([(\"quint8\", np.uint8, 1)])\n",
      "/home/arya/anaconda3/lib/python3.7/site-packages/tensorflow/python/framework/dtypes.py:518: FutureWarning: Passing (type, 1) or '1type' as a synonym of type is deprecated; in a future version of numpy, it will be understood as (type, (1,)) / '(1,)type'.\n",
      "  _np_qint16 = np.dtype([(\"qint16\", np.int16, 1)])\n",
      "/home/arya/anaconda3/lib/python3.7/site-packages/tensorflow/python/framework/dtypes.py:519: FutureWarning: Passing (type, 1) or '1type' as a synonym of type is deprecated; in a future version of numpy, it will be understood as (type, (1,)) / '(1,)type'.\n",
      "  _np_quint16 = np.dtype([(\"quint16\", np.uint16, 1)])\n",
      "/home/arya/anaconda3/lib/python3.7/site-packages/tensorflow/python/framework/dtypes.py:520: FutureWarning: Passing (type, 1) or '1type' as a synonym of type is deprecated; in a future version of numpy, it will be understood as (type, (1,)) / '(1,)type'.\n",
      "  _np_qint32 = np.dtype([(\"qint32\", np.int32, 1)])\n",
      "/home/arya/anaconda3/lib/python3.7/site-packages/tensorflow/python/framework/dtypes.py:525: FutureWarning: Passing (type, 1) or '1type' as a synonym of type is deprecated; in a future version of numpy, it will be understood as (type, (1,)) / '(1,)type'.\n",
      "  np_resource = np.dtype([(\"resource\", np.ubyte, 1)])\n",
      "/home/arya/anaconda3/lib/python3.7/site-packages/tensorboard/compat/tensorflow_stub/dtypes.py:541: FutureWarning: Passing (type, 1) or '1type' as a synonym of type is deprecated; in a future version of numpy, it will be understood as (type, (1,)) / '(1,)type'.\n",
      "  _np_qint8 = np.dtype([(\"qint8\", np.int8, 1)])\n",
      "/home/arya/anaconda3/lib/python3.7/site-packages/tensorboard/compat/tensorflow_stub/dtypes.py:542: FutureWarning: Passing (type, 1) or '1type' as a synonym of type is deprecated; in a future version of numpy, it will be understood as (type, (1,)) / '(1,)type'.\n",
      "  _np_quint8 = np.dtype([(\"quint8\", np.uint8, 1)])\n",
      "/home/arya/anaconda3/lib/python3.7/site-packages/tensorboard/compat/tensorflow_stub/dtypes.py:543: FutureWarning: Passing (type, 1) or '1type' as a synonym of type is deprecated; in a future version of numpy, it will be understood as (type, (1,)) / '(1,)type'.\n",
      "  _np_qint16 = np.dtype([(\"qint16\", np.int16, 1)])\n",
      "/home/arya/anaconda3/lib/python3.7/site-packages/tensorboard/compat/tensorflow_stub/dtypes.py:544: FutureWarning: Passing (type, 1) or '1type' as a synonym of type is deprecated; in a future version of numpy, it will be understood as (type, (1,)) / '(1,)type'.\n",
      "  _np_quint16 = np.dtype([(\"quint16\", np.uint16, 1)])\n",
      "/home/arya/anaconda3/lib/python3.7/site-packages/tensorboard/compat/tensorflow_stub/dtypes.py:545: FutureWarning: Passing (type, 1) or '1type' as a synonym of type is deprecated; in a future version of numpy, it will be understood as (type, (1,)) / '(1,)type'.\n",
      "  _np_qint32 = np.dtype([(\"qint32\", np.int32, 1)])\n",
      "/home/arya/anaconda3/lib/python3.7/site-packages/tensorboard/compat/tensorflow_stub/dtypes.py:550: FutureWarning: Passing (type, 1) or '1type' as a synonym of type is deprecated; in a future version of numpy, it will be understood as (type, (1,)) / '(1,)type'.\n",
      "  np_resource = np.dtype([(\"resource\", np.ubyte, 1)])\n"
     ]
    }
   ],
   "source": [
    "import numpy as np\n",
    "import keras\n",
    "from keras import models\n",
    "import matplotlib.pyplot as plt\n",
    "from keras.preprocessing import image\n",
    "from keras.preprocessing.image import ImageDataGenerator\n",
    "from keras.models import Model\n",
    "from keras.optimizers import SGD\n",
    "from keras import layers\n",
    "from keras.layers import  Dense, Flatten, Conv2D, MaxPooling2D, Dropout\n",
    "from keras import Input\n",
    "                                                                                                            \n"
   ]
  },
  {
   "cell_type": "code",
   "execution_count": 2,
   "metadata": {},
   "outputs": [
    {
     "name": "stdout",
     "output_type": "stream",
     "text": [
      "Found 3832 images belonging to 2 classes.\n",
      "Found 912 images belonging to 2 classes.\n",
      "Found 1078 images belonging to 2 classes.\n"
     ]
    }
   ],
   "source": [
    "# Normalize training and validation data in the range of 0 to 1\n",
    "train_datagen = ImageDataGenerator(rescale=1./255)\n",
    "validation_datagen=ImageDataGenerator(rescale=1./255)\n",
    "test_datagen = ImageDataGenerator(rescale=1./255)\n",
    "\n",
    "# Read the training sample and set the batch size \n",
    "train_generator = train_datagen.flow_from_directory(\n",
    "        'cellimage/train/',\n",
    "        target_size=(64, 64),\n",
    "        batch_size=32,\n",
    "        class_mode='categorical',\n",
    "        shuffle=True)\n",
    "\n",
    "# Read Validation data from directory and define target size with batch size\n",
    "validation_generator = validation_datagen.flow_from_directory(\n",
    "        'cellimage/val',\n",
    "        target_size=(64, 64),\n",
    "        batch_size=32,\n",
    "        class_mode='categorical',\n",
    "        shuffle=True)\n",
    "\n",
    "\n",
    "\n",
    "\n",
    "test_generator = test_datagen.flow_from_directory(\n",
    "        'cellimage/test/',\n",
    "        target_size=(64, 64),\n",
    "        batch_size=16,\n",
    "        class_mode='categorical',\n",
    "        shuffle=True)\n"
   ]
  },
  {
   "cell_type": "code",
   "execution_count": 3,
   "metadata": {},
   "outputs": [
    {
     "name": "stderr",
     "output_type": "stream",
     "text": [
      "WARNING: Logging before flag parsing goes to stderr.\n",
      "W1021 14:27:25.654325 140053094811456 deprecation_wrapper.py:119] From /home/arya/anaconda3/lib/python3.7/site-packages/keras/backend/tensorflow_backend.py:68: The name tf.get_default_graph is deprecated. Please use tf.compat.v1.get_default_graph instead.\n",
      "\n",
      "W1021 14:27:25.850592 140053094811456 deprecation_wrapper.py:119] From /home/arya/anaconda3/lib/python3.7/site-packages/keras/backend/tensorflow_backend.py:507: The name tf.placeholder is deprecated. Please use tf.compat.v1.placeholder instead.\n",
      "\n",
      "W1021 14:27:25.874703 140053094811456 deprecation_wrapper.py:119] From /home/arya/anaconda3/lib/python3.7/site-packages/keras/backend/tensorflow_backend.py:3831: The name tf.random_uniform is deprecated. Please use tf.random.uniform instead.\n",
      "\n",
      "W1021 14:27:25.946291 140053094811456 deprecation_wrapper.py:119] From /home/arya/anaconda3/lib/python3.7/site-packages/keras/backend/tensorflow_backend.py:3655: The name tf.nn.max_pool is deprecated. Please use tf.nn.max_pool2d instead.\n",
      "\n",
      "W1021 14:27:25.954562 140053094811456 deprecation_wrapper.py:119] From /home/arya/anaconda3/lib/python3.7/site-packages/keras/backend/tensorflow_backend.py:126: The name tf.placeholder_with_default is deprecated. Please use tf.compat.v1.placeholder_with_default instead.\n",
      "\n",
      "W1021 14:27:25.989422 140053094811456 deprecation.py:506] From /home/arya/anaconda3/lib/python3.7/site-packages/keras/backend/tensorflow_backend.py:3138: calling dropout (from tensorflow.python.ops.nn_ops) with keep_prob is deprecated and will be removed in a future version.\n",
      "Instructions for updating:\n",
      "Please use `rate` instead of `keep_prob`. Rate should be set to `rate = 1 - keep_prob`.\n"
     ]
    },
    {
     "name": "stdout",
     "output_type": "stream",
     "text": [
      "_________________________________________________________________\n",
      "Layer (type)                 Output Shape              Param #   \n",
      "=================================================================\n",
      "conv2d_1 (Conv2D)            (None, 62, 62, 64)        1792      \n",
      "_________________________________________________________________\n",
      "max_pooling2d_1 (MaxPooling2 (None, 31, 31, 64)        0         \n",
      "_________________________________________________________________\n",
      "dropout_1 (Dropout)          (None, 31, 31, 64)        0         \n",
      "_________________________________________________________________\n",
      "conv2d_2 (Conv2D)            (None, 29, 29, 64)        36928     \n",
      "_________________________________________________________________\n",
      "max_pooling2d_2 (MaxPooling2 (None, 14, 14, 64)        0         \n",
      "_________________________________________________________________\n",
      "dropout_2 (Dropout)          (None, 14, 14, 64)        0         \n",
      "_________________________________________________________________\n",
      "conv2d_3 (Conv2D)            (None, 12, 12, 32)        18464     \n",
      "_________________________________________________________________\n",
      "max_pooling2d_3 (MaxPooling2 (None, 6, 6, 32)          0         \n",
      "_________________________________________________________________\n",
      "dropout_3 (Dropout)          (None, 6, 6, 32)          0         \n",
      "_________________________________________________________________\n",
      "conv2d_4 (Conv2D)            (None, 4, 4, 16)          4624      \n",
      "_________________________________________________________________\n",
      "max_pooling2d_4 (MaxPooling2 (None, 2, 2, 16)          0         \n",
      "_________________________________________________________________\n",
      "flatten_1 (Flatten)          (None, 64)                0         \n",
      "_________________________________________________________________\n",
      "dense_1 (Dense)              (None, 16)                1040      \n",
      "_________________________________________________________________\n",
      "dense_2 (Dense)              (None, 8)                 136       \n",
      "_________________________________________________________________\n",
      "dense_3 (Dense)              (None, 2)                 18        \n",
      "=================================================================\n",
      "Total params: 63,002\n",
      "Trainable params: 63,002\n",
      "Non-trainable params: 0\n",
      "_________________________________________________________________\n"
     ]
    }
   ],
   "source": [
    "# model\n",
    "model = models.Sequential()\n",
    "# new layers\n",
    "model.add(Conv2D(64, kernel_size=(3,3), activation = 'relu', input_shape=(64,64,3)))\n",
    "model.add(MaxPooling2D(pool_size=(2,2)))\n",
    "model.add(Dropout(rate=0.2))\n",
    "model.add(Conv2D(64, kernel_size=(3,3), activation = 'relu'))\n",
    "model.add(MaxPooling2D(pool_size=(2,2)))\n",
    "model.add(Dropout(rate=0.2))\n",
    "model.add(Conv2D(32, kernel_size=(3,3), activation = 'relu'))\n",
    "model.add(MaxPooling2D(pool_size=(2,2)))\n",
    "model.add(Dropout(rate=0.2))\n",
    "model.add(Conv2D(16, kernel_size=(3,3), activation = 'relu'))\n",
    "model.add(MaxPooling2D(pool_size=(2,2)))\n",
    "model.add(layers.Flatten())\n",
    "model.add(layers.Dense(16, activation='relu'))\n",
    "model.add(layers.Dense(8, activation='relu'))\n",
    "model.add(layers.Dense(2, activation='softmax'))\n",
    "model.summary()"
   ]
  },
  {
   "cell_type": "code",
   "execution_count": 4,
   "metadata": {},
   "outputs": [
    {
     "name": "stderr",
     "output_type": "stream",
     "text": [
      "W1021 14:27:28.322571 140053094811456 deprecation_wrapper.py:119] From /home/arya/anaconda3/lib/python3.7/site-packages/keras/optimizers.py:757: The name tf.train.Optimizer is deprecated. Please use tf.compat.v1.train.Optimizer instead.\n",
      "\n",
      "W1021 14:27:28.348884 140053094811456 deprecation_wrapper.py:119] From /home/arya/anaconda3/lib/python3.7/site-packages/keras/backend/tensorflow_backend.py:3008: The name tf.log is deprecated. Please use tf.math.log instead.\n",
      "\n",
      "W1021 14:27:28.811544 140053094811456 deprecation.py:323] From /home/arya/anaconda3/lib/python3.7/site-packages/tensorflow/python/ops/math_grad.py:1250: add_dispatch_support.<locals>.wrapper (from tensorflow.python.ops.array_ops) is deprecated and will be removed in a future version.\n",
      "Instructions for updating:\n",
      "Use tf.where in 2.0, which has the same broadcast rule as np.where\n",
      "W1021 14:27:29.370544 140053094811456 variables.py:2445] Variable *= will be deprecated. Use `var.assign(var * other)` if you want assignment to the variable value or `x = x * y` if you want a new python Tensor object.\n"
     ]
    },
    {
     "name": "stdout",
     "output_type": "stream",
     "text": [
      "Epoch 1/100\n",
      "120/119 [==============================] - 41s 343ms/step - loss: 0.6905 - acc: 0.5273 - val_loss: 0.6958 - val_acc: 0.4496\n",
      "Epoch 2/100\n",
      "120/119 [==============================] - 34s 283ms/step - loss: 0.6806 - acc: 0.5908 - val_loss: 0.6918 - val_acc: 0.4572\n",
      "Epoch 3/100\n",
      "120/119 [==============================] - 33s 276ms/step - loss: 0.6535 - acc: 0.6977 - val_loss: 0.6768 - val_acc: 0.5713\n",
      "Epoch 4/100\n",
      "120/119 [==============================] - 33s 273ms/step - loss: 0.5932 - acc: 0.7480 - val_loss: 0.6124 - val_acc: 0.7127\n",
      "Epoch 5/100\n",
      "120/119 [==============================] - 32s 268ms/step - loss: 0.5236 - acc: 0.7487 - val_loss: 0.5989 - val_acc: 0.6809\n",
      "Epoch 6/100\n",
      "120/119 [==============================] - 34s 280ms/step - loss: 0.4948 - acc: 0.7515 - val_loss: 0.5114 - val_acc: 0.7785\n",
      "Epoch 7/100\n",
      "120/119 [==============================] - 33s 275ms/step - loss: 0.4840 - acc: 0.7536 - val_loss: 0.6156 - val_acc: 0.6053\n",
      "Epoch 8/100\n",
      "120/119 [==============================] - 33s 276ms/step - loss: 0.4807 - acc: 0.7542 - val_loss: 0.5683 - val_acc: 0.6711\n",
      "Epoch 9/100\n",
      "120/119 [==============================] - 33s 273ms/step - loss: 0.4751 - acc: 0.7570 - val_loss: 0.6001 - val_acc: 0.6184\n",
      "Epoch 10/100\n",
      "120/119 [==============================] - 34s 284ms/step - loss: 0.4751 - acc: 0.7553 - val_loss: 0.5738 - val_acc: 0.6371\n",
      "Epoch 11/100\n",
      "120/119 [==============================] - 33s 274ms/step - loss: 0.4682 - acc: 0.7584 - val_loss: 0.5649 - val_acc: 0.6458\n",
      "Epoch 12/100\n",
      "120/119 [==============================] - 33s 275ms/step - loss: 0.4657 - acc: 0.7529 - val_loss: 0.5446 - val_acc: 0.6985\n",
      "Epoch 13/100\n",
      "120/119 [==============================] - 34s 280ms/step - loss: 0.4661 - acc: 0.7549 - val_loss: 0.5412 - val_acc: 0.7259\n",
      "Epoch 14/100\n",
      "120/119 [==============================] - 34s 283ms/step - loss: 0.4614 - acc: 0.7599 - val_loss: 0.5217 - val_acc: 0.7292\n",
      "Epoch 15/100\n",
      "120/119 [==============================] - 33s 276ms/step - loss: 0.4556 - acc: 0.7577 - val_loss: 0.5635 - val_acc: 0.6831\n",
      "Epoch 16/100\n",
      "120/119 [==============================] - 33s 275ms/step - loss: 0.4538 - acc: 0.7656 - val_loss: 0.5322 - val_acc: 0.7533\n",
      "Epoch 17/100\n",
      "120/119 [==============================] - 33s 279ms/step - loss: 0.4454 - acc: 0.7684 - val_loss: 0.5007 - val_acc: 0.7818\n",
      "Epoch 18/100\n",
      "120/119 [==============================] - 33s 274ms/step - loss: 0.4353 - acc: 0.7755 - val_loss: 0.5425 - val_acc: 0.7248\n",
      "Epoch 19/100\n",
      "120/119 [==============================] - 34s 285ms/step - loss: 0.4239 - acc: 0.7894 - val_loss: 0.4862 - val_acc: 0.7643\n",
      "Epoch 20/100\n",
      "120/119 [==============================] - 33s 278ms/step - loss: 0.4043 - acc: 0.8039 - val_loss: 0.4831 - val_acc: 0.7697\n",
      "Epoch 21/100\n",
      "120/119 [==============================] - 34s 280ms/step - loss: 0.3778 - acc: 0.8380 - val_loss: 0.4995 - val_acc: 0.7500\n",
      "Epoch 22/100\n",
      "120/119 [==============================] - 35s 295ms/step - loss: 0.3593 - acc: 0.8483 - val_loss: 0.5220 - val_acc: 0.7489\n",
      "Epoch 23/100\n",
      "120/119 [==============================] - 35s 291ms/step - loss: 0.3507 - acc: 0.8431 - val_loss: 0.4443 - val_acc: 0.7884\n",
      "Epoch 24/100\n",
      "120/119 [==============================] - 34s 283ms/step - loss: 0.3306 - acc: 0.8655 - val_loss: 0.4551 - val_acc: 0.8070\n",
      "Epoch 25/100\n",
      "120/119 [==============================] - 34s 285ms/step - loss: 0.3123 - acc: 0.8708 - val_loss: 0.4438 - val_acc: 0.7993\n",
      "Epoch 26/100\n",
      "120/119 [==============================] - 35s 288ms/step - loss: 0.2935 - acc: 0.8884 - val_loss: 0.4231 - val_acc: 0.8289\n",
      "Epoch 27/100\n",
      "120/119 [==============================] - 34s 281ms/step - loss: 0.2791 - acc: 0.8911 - val_loss: 0.3682 - val_acc: 0.8640\n",
      "Epoch 28/100\n",
      "120/119 [==============================] - 34s 283ms/step - loss: 0.2534 - acc: 0.9124 - val_loss: 0.3416 - val_acc: 0.8673\n",
      "Epoch 29/100\n",
      "120/119 [==============================] - 34s 284ms/step - loss: 0.2271 - acc: 0.9165 - val_loss: 0.3249 - val_acc: 0.8882\n",
      "Epoch 30/100\n",
      "120/119 [==============================] - 38s 313ms/step - loss: 0.1998 - acc: 0.9230 - val_loss: 0.3527 - val_acc: 0.9046\n",
      "Epoch 31/100\n",
      "120/119 [==============================] - 34s 286ms/step - loss: 0.1900 - acc: 0.9305 - val_loss: 0.3122 - val_acc: 0.8882\n",
      "Epoch 32/100\n",
      "120/119 [==============================] - 33s 275ms/step - loss: 0.1805 - acc: 0.9313 - val_loss: 0.3072 - val_acc: 0.8936\n",
      "Epoch 33/100\n",
      "120/119 [==============================] - 32s 269ms/step - loss: 0.1750 - acc: 0.9319 - val_loss: 0.2913 - val_acc: 0.9221\n",
      "Epoch 34/100\n",
      "120/119 [==============================] - 33s 277ms/step - loss: 0.1584 - acc: 0.9436 - val_loss: 0.2855 - val_acc: 0.9178\n",
      "Epoch 35/100\n",
      "120/119 [==============================] - 33s 271ms/step - loss: 0.1660 - acc: 0.9389 - val_loss: 0.3106 - val_acc: 0.8991\n",
      "Epoch 36/100\n",
      "120/119 [==============================] - 33s 278ms/step - loss: 0.1521 - acc: 0.9438 - val_loss: 0.2979 - val_acc: 0.9079\n",
      "Epoch 37/100\n",
      "120/119 [==============================] - 33s 272ms/step - loss: 0.1591 - acc: 0.9405 - val_loss: 0.3204 - val_acc: 0.9046\n",
      "Epoch 38/100\n",
      "120/119 [==============================] - 33s 275ms/step - loss: 0.1564 - acc: 0.9440 - val_loss: 0.2742 - val_acc: 0.9156\n",
      "Epoch 39/100\n",
      "120/119 [==============================] - 33s 274ms/step - loss: 0.1544 - acc: 0.9456 - val_loss: 0.3158 - val_acc: 0.8827\n",
      "Epoch 40/100\n",
      "120/119 [==============================] - 32s 271ms/step - loss: 0.1507 - acc: 0.9447 - val_loss: 0.3291 - val_acc: 0.8860\n",
      "Epoch 41/100\n",
      "120/119 [==============================] - 34s 285ms/step - loss: 0.1466 - acc: 0.9451 - val_loss: 0.2977 - val_acc: 0.8871\n",
      "Epoch 42/100\n",
      "120/119 [==============================] - 34s 285ms/step - loss: 0.1565 - acc: 0.9403 - val_loss: 0.2638 - val_acc: 0.9167\n",
      "Epoch 43/100\n",
      "120/119 [==============================] - 33s 277ms/step - loss: 0.1382 - acc: 0.9484 - val_loss: 0.3041 - val_acc: 0.8849\n",
      "Epoch 44/100\n",
      "120/119 [==============================] - 33s 275ms/step - loss: 0.1474 - acc: 0.9479 - val_loss: 0.2753 - val_acc: 0.8958\n",
      "Epoch 45/100\n",
      "120/119 [==============================] - 34s 281ms/step - loss: 0.1502 - acc: 0.9447 - val_loss: 0.2672 - val_acc: 0.9112\n",
      "Epoch 46/100\n",
      "120/119 [==============================] - 33s 278ms/step - loss: 0.1375 - acc: 0.9466 - val_loss: 0.2748 - val_acc: 0.9145\n",
      "Epoch 47/100\n",
      "120/119 [==============================] - 33s 276ms/step - loss: 0.1468 - acc: 0.9468 - val_loss: 0.3066 - val_acc: 0.8794\n",
      "Epoch 48/100\n",
      "120/119 [==============================] - 33s 272ms/step - loss: 0.1466 - acc: 0.9452 - val_loss: 0.3736 - val_acc: 0.8739\n",
      "Epoch 49/100\n",
      "120/119 [==============================] - 33s 276ms/step - loss: 0.1468 - acc: 0.9459 - val_loss: 0.2862 - val_acc: 0.8991\n",
      "Epoch 50/100\n",
      "120/119 [==============================] - 23s 189ms/step - loss: 0.1307 - acc: 0.9494 - val_loss: 0.3174 - val_acc: 0.8882\n",
      "Epoch 51/100\n",
      "120/119 [==============================] - 26s 216ms/step - loss: 0.1467 - acc: 0.9476 - val_loss: 0.2554 - val_acc: 0.9057\n",
      "Epoch 52/100\n",
      "120/119 [==============================] - 33s 276ms/step - loss: 0.1283 - acc: 0.9518 - val_loss: 0.2705 - val_acc: 0.9057\n",
      "Epoch 53/100\n",
      "120/119 [==============================] - 34s 287ms/step - loss: 0.1298 - acc: 0.9529 - val_loss: 0.2232 - val_acc: 0.9298\n",
      "Epoch 54/100\n",
      "120/119 [==============================] - 35s 289ms/step - loss: 0.1332 - acc: 0.9512 - val_loss: 0.2864 - val_acc: 0.8936\n",
      "Epoch 55/100\n",
      "120/119 [==============================] - 35s 293ms/step - loss: 0.1286 - acc: 0.9523 - val_loss: 0.2296 - val_acc: 0.9276\n",
      "Epoch 56/100\n",
      "120/119 [==============================] - 32s 263ms/step - loss: 0.1308 - acc: 0.9492 - val_loss: 0.2919 - val_acc: 0.9068\n",
      "Epoch 57/100\n",
      "120/119 [==============================] - 23s 191ms/step - loss: 0.1373 - acc: 0.9505 - val_loss: 0.3198 - val_acc: 0.8695\n",
      "Epoch 58/100\n",
      "120/119 [==============================] - 30s 246ms/step - loss: 0.1248 - acc: 0.9546 - val_loss: 0.3154 - val_acc: 0.8871\n",
      "Epoch 59/100\n",
      "120/119 [==============================] - 33s 275ms/step - loss: 0.1277 - acc: 0.9532 - val_loss: 0.2702 - val_acc: 0.9046\n",
      "Epoch 60/100\n",
      "120/119 [==============================] - 32s 269ms/step - loss: 0.1267 - acc: 0.9523 - val_loss: 0.3166 - val_acc: 0.8925\n"
     ]
    },
    {
     "name": "stdout",
     "output_type": "stream",
     "text": [
      "Epoch 61/100\n",
      "120/119 [==============================] - 33s 272ms/step - loss: 0.1280 - acc: 0.9515 - val_loss: 0.2635 - val_acc: 0.9024\n",
      "Epoch 62/100\n",
      "120/119 [==============================] - 34s 281ms/step - loss: 0.1212 - acc: 0.9556 - val_loss: 0.2987 - val_acc: 0.8925\n",
      "Epoch 63/100\n",
      "120/119 [==============================] - 33s 274ms/step - loss: 0.1198 - acc: 0.9530 - val_loss: 0.3067 - val_acc: 0.8882\n",
      "Epoch 64/100\n",
      "120/119 [==============================] - 33s 273ms/step - loss: 0.1197 - acc: 0.9586 - val_loss: 0.2386 - val_acc: 0.9145\n",
      "Epoch 65/100\n",
      "120/119 [==============================] - 35s 289ms/step - loss: 0.1225 - acc: 0.9551 - val_loss: 0.3301 - val_acc: 0.8805\n",
      "Epoch 66/100\n",
      "120/119 [==============================] - 36s 298ms/step - loss: 0.1178 - acc: 0.9559 - val_loss: 0.2647 - val_acc: 0.8904\n",
      "Epoch 67/100\n",
      "120/119 [==============================] - 34s 284ms/step - loss: 0.1171 - acc: 0.9571 - val_loss: 0.3302 - val_acc: 0.8947\n",
      "Epoch 68/100\n",
      "120/119 [==============================] - 33s 276ms/step - loss: 0.1239 - acc: 0.9535 - val_loss: 0.3144 - val_acc: 0.8706\n",
      "Epoch 69/100\n",
      "120/119 [==============================] - 34s 281ms/step - loss: 0.1186 - acc: 0.9554 - val_loss: 0.3386 - val_acc: 0.8925\n",
      "Epoch 70/100\n",
      "120/119 [==============================] - 34s 282ms/step - loss: 0.1168 - acc: 0.9548 - val_loss: 0.2913 - val_acc: 0.8947\n",
      "Epoch 71/100\n",
      "120/119 [==============================] - 33s 274ms/step - loss: 0.1161 - acc: 0.9539 - val_loss: 0.2461 - val_acc: 0.8958\n",
      "Epoch 72/100\n",
      "120/119 [==============================] - 34s 283ms/step - loss: 0.1188 - acc: 0.9543 - val_loss: 0.2866 - val_acc: 0.8728\n",
      "Epoch 73/100\n",
      "120/119 [==============================] - 35s 289ms/step - loss: 0.1236 - acc: 0.9547 - val_loss: 0.3360 - val_acc: 0.8849\n",
      "Epoch 74/100\n",
      "120/119 [==============================] - 34s 284ms/step - loss: 0.1140 - acc: 0.9543 - val_loss: 0.3333 - val_acc: 0.8794\n",
      "Epoch 75/100\n",
      "120/119 [==============================] - 35s 293ms/step - loss: 0.1111 - acc: 0.9580 - val_loss: 0.3363 - val_acc: 0.8947\n",
      "Epoch 76/100\n",
      "120/119 [==============================] - 35s 291ms/step - loss: 0.1100 - acc: 0.9589 - val_loss: 0.2855 - val_acc: 0.8816\n",
      "Epoch 77/100\n",
      "120/119 [==============================] - 34s 280ms/step - loss: 0.1124 - acc: 0.9610 - val_loss: 0.2654 - val_acc: 0.8969\n",
      "Epoch 78/100\n",
      "120/119 [==============================] - 35s 292ms/step - loss: 0.1118 - acc: 0.9577 - val_loss: 0.3307 - val_acc: 0.8958\n",
      "Epoch 79/100\n",
      "120/119 [==============================] - 35s 291ms/step - loss: 0.1052 - acc: 0.9581 - val_loss: 0.2771 - val_acc: 0.8783\n",
      "Epoch 80/100\n",
      "120/119 [==============================] - 34s 287ms/step - loss: 0.1065 - acc: 0.9613 - val_loss: 0.3194 - val_acc: 0.8925\n",
      "Epoch 81/100\n",
      "120/119 [==============================] - 34s 287ms/step - loss: 0.1112 - acc: 0.9573 - val_loss: 0.3404 - val_acc: 0.8969\n",
      "Epoch 82/100\n",
      "120/119 [==============================] - 34s 281ms/step - loss: 0.1086 - acc: 0.9569 - val_loss: 0.3101 - val_acc: 0.8794\n",
      "Epoch 83/100\n",
      "120/119 [==============================] - 32s 271ms/step - loss: 0.1004 - acc: 0.9625 - val_loss: 0.3001 - val_acc: 0.8838\n",
      "Epoch 84/100\n",
      "120/119 [==============================] - 33s 272ms/step - loss: 0.1090 - acc: 0.9587 - val_loss: 0.2541 - val_acc: 0.9035\n",
      "Epoch 85/100\n",
      "120/119 [==============================] - 35s 288ms/step - loss: 0.1086 - acc: 0.9595 - val_loss: 0.2955 - val_acc: 0.8914\n",
      "Epoch 86/100\n",
      "120/119 [==============================] - 34s 285ms/step - loss: 0.0986 - acc: 0.9609 - val_loss: 0.3063 - val_acc: 0.8947\n",
      "Epoch 87/100\n",
      "120/119 [==============================] - 35s 288ms/step - loss: 0.1040 - acc: 0.9598 - val_loss: 0.3281 - val_acc: 0.8969\n",
      "Epoch 88/100\n",
      "120/119 [==============================] - 34s 286ms/step - loss: 0.0994 - acc: 0.9614 - val_loss: 0.3278 - val_acc: 0.8958\n",
      "Epoch 89/100\n",
      "120/119 [==============================] - 35s 288ms/step - loss: 0.1075 - acc: 0.9572 - val_loss: 0.2557 - val_acc: 0.8947\n",
      "Epoch 90/100\n",
      "120/119 [==============================] - 32s 270ms/step - loss: 0.1046 - acc: 0.9616 - val_loss: 0.3353 - val_acc: 0.8783\n",
      "Epoch 91/100\n",
      "120/119 [==============================] - 33s 273ms/step - loss: 0.0952 - acc: 0.9664 - val_loss: 0.2332 - val_acc: 0.9167\n",
      "Epoch 92/100\n",
      "120/119 [==============================] - 33s 273ms/step - loss: 0.1088 - acc: 0.9609 - val_loss: 0.3617 - val_acc: 0.8838\n",
      "Epoch 93/100\n",
      "120/119 [==============================] - 33s 272ms/step - loss: 0.1024 - acc: 0.9621 - val_loss: 0.2764 - val_acc: 0.8838\n",
      "Epoch 94/100\n",
      "120/119 [==============================] - 33s 277ms/step - loss: 0.1013 - acc: 0.9624 - val_loss: 0.2880 - val_acc: 0.8991\n",
      "Epoch 95/100\n",
      "120/119 [==============================] - 32s 269ms/step - loss: 0.0971 - acc: 0.9635 - val_loss: 0.2779 - val_acc: 0.8827\n",
      "Epoch 96/100\n",
      "120/119 [==============================] - 33s 272ms/step - loss: 0.0954 - acc: 0.9613 - val_loss: 0.3105 - val_acc: 0.8827\n",
      "Epoch 97/100\n",
      "120/119 [==============================] - 32s 270ms/step - loss: 0.0977 - acc: 0.9619 - val_loss: 0.3467 - val_acc: 0.8838\n",
      "Epoch 98/100\n",
      "120/119 [==============================] - 32s 270ms/step - loss: 0.1017 - acc: 0.9628 - val_loss: 0.3542 - val_acc: 0.8925\n",
      "Epoch 99/100\n",
      "120/119 [==============================] - 33s 272ms/step - loss: 0.0929 - acc: 0.9642 - val_loss: 0.2422 - val_acc: 0.9046\n",
      "Epoch 100/100\n",
      "120/119 [==============================] - 32s 271ms/step - loss: 0.0940 - acc: 0.9627 - val_loss: 0.3439 - val_acc: 0.8783\n"
     ]
    }
   ],
   "source": [
    "sgd = SGD(lr=0.001,decay=1e-6, momentum=0.9, nesterov=True)\n",
    "# We are going to use accuracy metrics and cross entropy loss as performance parameters\n",
    "model.compile(sgd, loss='categorical_crossentropy', metrics=['acc'])\n",
    "\n",
    "history = model.fit_generator(train_generator, \n",
    "      steps_per_epoch=train_generator.samples/train_generator.batch_size,\n",
    "      epochs=100,\n",
    "      validation_data=validation_generator,\n",
    "      validation_steps=validation_generator.samples/validation_generator.batch_size,\n",
    "      verbose=1)"
   ]
  },
  {
   "cell_type": "code",
   "execution_count": 5,
   "metadata": {},
   "outputs": [],
   "source": [
    "model.save('malaria.h5')"
   ]
  },
  {
   "cell_type": "code",
   "execution_count": 6,
   "metadata": {},
   "outputs": [
    {
     "name": "stdout",
     "output_type": "stream",
     "text": [
      "<keras.models.Sequential object at 0x7f608311ac18>\n"
     ]
    }
   ],
   "source": [
    "model = models.load_model('malaria.h5')\n",
    "print(model)"
   ]
  },
  {
   "cell_type": "code",
   "execution_count": 7,
   "metadata": {},
   "outputs": [],
   "source": [
    "model.save_weights('malaria.h5')"
   ]
  },
  {
   "cell_type": "code",
   "execution_count": 8,
   "metadata": {},
   "outputs": [],
   "source": [
    "model.load_weights('malaria.h5')"
   ]
  },
  {
   "cell_type": "code",
   "execution_count": 9,
   "metadata": {},
   "outputs": [
    {
     "name": "stdout",
     "output_type": "stream",
     "text": [
      "[0.5271398746146041, 0.5910751566384183, 0.6972860126505316, 0.7476513571181725, 0.7486951983298539, 0.7515657618797398, 0.7536534446764092, 0.7541753653444676, 0.7567849686847599, 0.7552192068050201, 0.7583507308133709, 0.7526096033402923, 0.7549582462221197, 0.7596555323590815, 0.757567849562412, 0.7656576200417536, 0.7682672232576103, 0.7753131524008351, 0.7896659708968782, 0.8037578288100209, 0.8379436325678496, 0.8481210857194251, 0.8431628393728698, 0.8653444677653541, 0.8705636743215032, 0.8883089771599262, 0.8909185802513473, 0.912317327641744, 0.9164926932350828, 0.9230167015858135, 0.9305845511482255, 0.9313674321503131, 0.9318893529428072, 0.9436325679741224, 0.9389352819615964, 0.9438935283081517, 0.9407620040509298, 0.9438935281837161, 0.9454592901878914, 0.9446764090613682, 0.944937369519833, 0.9402400833828714, 0.9483298538622129, 0.9478079331941545, 0.9446764090613682, 0.9465031315240083, 0.946764091733602, 0.9451983297294266, 0.9459812109803855, 0.9493736950738942, 0.9475469727356897, 0.951722338204593, 0.9527661795407099, 0.9512004174120988, 0.9525052192066806, 0.9493736951983298, 0.9504175365344467, 0.9545929017544789, 0.9532881003332039, 0.9522442588726514, 0.951461377746128, 0.9556367430905958, 0.9530271397503035, 0.9585073068893528, 0.9551148224225373, 0.955897703424625, 0.9572025053436423, 0.9535490606672331, 0.9553757827565665, 0.9548538623373792, 0.9538100208768268, 0.9543319414204496, 0.9545929018789144, 0.9543319416693208, 0.9579853860968588, 0.9590292276818468, 0.9611169103540806, 0.9577244257628296, 0.9582463465553236, 0.9613778706881099, 0.9572025052192067, 0.956941545009613, 0.9624217118997912, 0.9587682673478176, 0.9595511481010341, 0.9608559497711803, 0.9598121084350634, 0.9613778704392387, 0.9572025050947711, 0.961638830773268, 0.9663361169102297, 0.9608559498956158, 0.9621607516901975, 0.9624217117753556, 0.9634655532359081, 0.9613778706881099, 0.9618997911072972, 0.9626826722338204, 0.9642484341135602, 0.9626826721093849]\n",
      "[0.44956140350877194, 0.45723684210526316, 0.5712719298245614, 0.7127192982456141, 0.680921052631579, 0.7785087719298246, 0.6052631578947368, 0.6710526315789473, 0.618421052631579, 0.6370614035087719, 0.6458333333333334, 0.6984649122807017, 0.7258771929824561, 0.7291666666666666, 0.6831140350877193, 0.7532894736842105, 0.7817982456140351, 0.7247807017543859, 0.7642543859649122, 0.7697368421052632, 0.75, 0.7489035087719298, 0.7883771929824561, 0.8070175438596491, 0.7993421052631579, 0.8289473684210527, 0.8640350877192983, 0.8673245614035088, 0.8881578947368421, 0.9046052631578947, 0.8881578947368421, 0.893640350877193, 0.9221491228070176, 0.9177631578947368, 0.8991228070175439, 0.9078947368421053, 0.9046052631578947, 0.9155701754385965, 0.8826754385964912, 0.8859649122807017, 0.8870614035087719, 0.9166666666666666, 0.8848684210526315, 0.8958333333333334, 0.9111842105263158, 0.9144736842105263, 0.8793859649122807, 0.8739035087719298, 0.8991228070175439, 0.8881578947368421, 0.9057017543859649, 0.9057017543859649, 0.9298245614035088, 0.893640350877193, 0.9276315789473685, 0.9067982456140351, 0.8695175438596491, 0.8870614035087719, 0.9046052631578947, 0.8925438596491229, 0.9024122807017544, 0.8925438596491229, 0.8881578947368421, 0.9144736842105263, 0.8804824561403509, 0.8903508771929824, 0.8947368421052632, 0.8706140350877193, 0.8925438596491229, 0.8947368421052632, 0.8958333333333334, 0.8728070175438597, 0.8848684210526315, 0.8793859649122807, 0.8947368421052632, 0.881578947368421, 0.8969298245614035, 0.8958333333333334, 0.8782894736842105, 0.8925438596491229, 0.8969298245614035, 0.8793859649122807, 0.8837719298245614, 0.9035087719298246, 0.8914473684210527, 0.8947368421052632, 0.8969298245614035, 0.8958333333333334, 0.8947368421052632, 0.8782894736842105, 0.9166666666666666, 0.8837719298245614, 0.8837719298245614, 0.8991228070175439, 0.8826754385964912, 0.8826754385964912, 0.8837719298245614, 0.8925438596491229, 0.9046052631578947, 0.8782894736842105]\n",
      "[0.6905275222404018, 0.6805905210698074, 0.653729959420222, 0.5934334799865093, 0.5235578656694336, 0.4946487767462442, 0.4839032813751125, 0.4807955434775303, 0.47539658368504867, 0.4750788356167787, 0.46825010362149283, 0.4660890458894423, 0.4660105616911966, 0.46167368934896147, 0.45582509308369024, 0.45380020906880403, 0.44552088829072384, 0.43540069050231406, 0.42360958114795244, 0.40470117119010657, 0.37784699713014114, 0.35940142370962647, 0.35063434711080005, 0.33067249274950683, 0.3124717666547831, 0.2934224614892972, 0.2793423572014667, 0.2535207097055021, 0.22722713272855277, 0.19980171462812604, 0.18972146735061932, 0.1801574930144252, 0.17485888834288324, 0.15843695977659963, 0.16589510331945279, 0.15209522233626538, 0.15863639973337318, 0.15659592982716003, 0.15465746325341545, 0.1508370112153334, 0.14683631422593102, 0.15648993953969134, 0.13841457782402666, 0.1474792353404464, 0.15033438251137982, 0.13766580643540632, 0.14673916990859026, 0.1467107337022624, 0.14667600576837775, 0.13083156181930997, 0.14673948914808121, 0.12848112855052152, 0.12993106685407724, 0.13308348086718974, 0.12827763926541133, 0.1304664394676312, 0.1374967198406729, 0.12489944012030679, 0.12755054289898943, 0.12693628788165484, 0.12808375202103797, 0.12111916119283325, 0.11980174424317286, 0.11987549900261993, 0.12260346137189417, 0.11778135330169336, 0.1168957170651203, 0.12390491191398874, 0.11855815878305156, 0.11669253281829003, 0.11626688001331308, 0.11878285872009203, 0.12370969192562373, 0.11386849074809188, 0.11116624474992085, 0.10929547519362794, 0.11236661841746785, 0.11168161004252872, 0.10507454451694619, 0.10654784387875822, 0.11127438466210456, 0.10841922000797158, 0.1005152373541621, 0.10901254136309743, 0.1087154816011733, 0.09860996623564364, 0.10407354997272655, 0.09949733841083244, 0.10754930943499527, 0.10456581667283382, 0.09531513840302296, 0.10893906260955309, 0.1022852187536828, 0.10125760846073294, 0.09720410625907225, 0.09510428054814299, 0.09759263444637456, 0.10190164545134861, 0.09281211548595687, 0.09395521017479747]\n",
      "[0.6958299122358623, 0.691787810702073, 0.6767791499171341, 0.6123873016290498, 0.5988905973601759, 0.5113662669533178, 0.6155540545781454, 0.5682583409443236, 0.6000774115846869, 0.573765452493701, 0.5648913142973917, 0.5445929305595264, 0.5412130083954125, 0.5216534148182785, 0.5635230959507457, 0.5321719113149141, 0.5006892973916572, 0.5425380729792411, 0.4861674512687482, 0.48314904696062994, 0.49945941515136183, 0.5220454011047095, 0.4442993569792363, 0.45510258800105047, 0.4437931859702395, 0.4231003088909283, 0.36822658986376045, 0.3415549068074477, 0.32493660951915543, 0.35270382856067856, 0.31220747033754986, 0.30723196947783754, 0.2913291326217484, 0.2855381881981565, 0.310642937819163, 0.29793363757300795, 0.3204370109658492, 0.27422324005971876, 0.3157725689703958, 0.3290855884552002, 0.29773796859540436, 0.26379557241473284, 0.30405459160867493, 0.27533316586101264, 0.26722833488071174, 0.2748299026698397, 0.3066398485710746, 0.3735718612085309, 0.2862467742279956, 0.31740253640894306, 0.2554283191760381, 0.2705468697506085, 0.22324790387300023, 0.28642272347943826, 0.22958812522783614, 0.29194523511748566, 0.3197969731531645, 0.3154473858967162, 0.27015179840096254, 0.31659006026753206, 0.26352727622316596, 0.29865622834155436, 0.30671922241648036, 0.23857802976118891, 0.3301033113609281, 0.26466624151196394, 0.3302345772584279, 0.3143955427303649, 0.3385665536972514, 0.2912940433935115, 0.246144847650277, 0.28662644222117306, 0.33601269125938416, 0.3333053743107277, 0.3362647985157214, 0.2855295614715208, 0.26536672889140617, 0.33068854636267614, 0.2770708530095586, 0.3193915154327426, 0.34035872654956684, 0.3100558048800418, 0.3001068890617605, 0.2541350905309644, 0.2955234080814479, 0.3063120467490272, 0.32813132083729696, 0.32779750149500997, 0.2557481280936484, 0.3353282024985866, 0.23316342161412826, 0.3616535287154348, 0.27644451511533635, 0.2879713478318432, 0.2779447940880792, 0.31046910074196366, 0.3466753615883359, 0.3542326781571957, 0.24224494580636946, 0.3438951582239385]\n"
     ]
    }
   ],
   "source": [
    "train_acc = history.history['acc']\n",
    "val_acc = history.history['val_acc']\n",
    "train_loss = history.history['loss']\n",
    "val_loss = history.history['val_loss']\n",
    "print(train_acc)\n",
    "print(val_acc)\n",
    "print(train_loss)\n",
    "print(val_loss)"
   ]
  },
  {
   "cell_type": "code",
   "execution_count": 10,
   "metadata": {},
   "outputs": [
    {
     "data": {
      "image/png": "[encoded data removed]",
      "text/plain": [
       "<Figure size 432x288 with 1 Axes>"
      ]
     },
     "metadata": {
      "needs_background": "light"
     },
     "output_type": "display_data"
    },
    {
     "data": {
      "text/plain": [
       "<Figure size 432x288 with 0 Axes>"
      ]
     },
     "metadata": {},
     "output_type": "display_data"
    },
    {
     "data": {
      "image/png": "[encoded data removed]",
      "text/plain": [
       "<Figure size 432x288 with 1 Axes>"
      ]
     },
     "metadata": {
      "needs_background": "light"
     },
     "output_type": "display_data"
    }
   ],
   "source": [
    "epochs = range(len(train_acc)) \n",
    "plt.plot(epochs, train_acc, 'b', label='Training Accuracy')\n",
    "plt.plot(epochs, val_acc, 'r', label='Validation Accuracy')\n",
    "plt.title('Training and Validation Accuracy')\n",
    "plt.legend()\n",
    "plt.figure()\n",
    "plt.show()\n",
    "\n",
    "plt.plot(epochs, train_loss, 'b', label='Training Loss')\n",
    "plt.plot(epochs, val_loss, 'r', label='Validation Loss')\n",
    "plt.title('Training and Validation Loss')\n",
    "plt.legend()\n",
    "plt.show()\n"
   ]
  },
  {
   "cell_type": "code",
   "execution_count": 11,
   "metadata": {},
   "outputs": [
    {
     "name": "stdout",
     "output_type": "stream",
     "text": [
      "68/67 [==============================] - 5s 76ms/step\n",
      "No of errors = 531/1078\n"
     ]
    }
   ],
   "source": [
    "# Get the filenames from the generator\n",
    "fnames = test_generator.filenames\n",
    " \n",
    "# Get the ground truth from generator\n",
    "ground_truth = test_generator.classes\n",
    " \n",
    "# Get the label to class mapping from the generator\n",
    "label2index = test_generator.class_indices\n",
    " \n",
    "# Getting the mapping from class index to class label\n",
    "idx2label = dict((v,k) for k,v in label2index.items())\n",
    " \n",
    "# Get the predictions from the model using the generator\n",
    "predictions = model.predict_generator(test_generator, steps=test_generator.samples/test_generator.batch_size,verbose=1)\n",
    "predicted_classes = np.argmax(predictions,axis=1)\n",
    " \n",
    "errors = np.where(predicted_classes != ground_truth)[0]\n",
    "print(\"No of errors = {}/{}\".format(len(errors),test_generator.samples))\n"
   ]
  },
  {
   "cell_type": "markdown",
   "metadata": {},
   "source": [
    "So the performance on test set is really poor which may be due to less training set"
   ]
  },
  {
   "cell_type": "code",
   "execution_count": null,
   "metadata": {},
   "outputs": [],
   "source": []
  }
 ],
 "metadata": {
  "kernelspec": {
   "display_name": "Python 3",
   "language": "python",
   "name": "python3"
  },
  "language_info": {
   "codemirror_mode": {
    "name": "ipython",
    "version": 3
   },
   "file_extension": ".py",
   "mimetype": "text/x-python",
   "name": "python",
   "nbconvert_exporter": "python",
   "pygments_lexer": "ipython3",
   "version": "3.7.3"
  }
 },
 "nbformat": 4,
 "nbformat_minor": 2
}
